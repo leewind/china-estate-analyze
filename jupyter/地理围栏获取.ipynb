{
 "cells": [
  {
   "cell_type": "code",
   "execution_count": 30,
   "metadata": {},
   "outputs": [],
   "source": [
    "import requests\n",
    "import json\n",
    "import warnings\n",
    "import time\n",
    "import pandas as pd\n",
    "import numpy as np\n",
    "warnings.filterwarnings(\"ignore\")"
   ]
  },
  {
   "cell_type": "code",
   "execution_count": 32,
   "metadata": {},
   "outputs": [],
   "source": [
    "url = 'https://www.amap.com/service/poiInfo'\n",
    "payload = {\n",
    "    'query_type': 'TQUERY',\n",
    "    'pagesize': 20,\n",
    "    'pagenum': 1,\n",
    "    'qii': True,\n",
    "    'cluster_state': 5,\n",
    "    'need_utd': True,\n",
    "    'utd_sceneid': 1000,\n",
    "    'div': 'PC1000',\n",
    "    'addr_poi_merge': True,\n",
    "    'is_classify': True,\n",
    "    'zoom': 17,\n",
    "    'city': 340100,\n",
    "    'geoobj': '116.951392|31.591949|117.533668|32.077299',\n",
    "    'keywords': '丁香家园一期'\n",
    "}\n",
    "\n",
    "headers = {\n",
    "    'Host': 'www.amap.com',\n",
    "    'amapuuid':'bdfc589d-8c81-49da-99dd-06500b389b02',\n",
    "    'Sec-Fetch-Mode': 'cors',\n",
    "    'Sec-Fetch-Site': 'same-origin',\n",
    "    'Referer': 'https://www.amap.com',\n",
    "    'X-Requested-With': 'XMLHttpRequest',\n",
    "    'User-Agent': 'Mozilla/5.0 (Macintosh; Intel Mac OS X 10_14_6) AppleWebKit/537.36 (KHTML, like Gecko) Chrome/78.0.3904.108 Safari/537.36',\n",
    "    'x-csrf-token': None,\n",
    "    'Accept-Encoding': 'gzip, deflate, br',\n",
    "    'Accept-Language': 'zh-CN,zh;q=0.9,en;q=0.8,ja;q=0.7,ko;q=0.6,zh-TW;q=0.5'\n",
    "}\n",
    "\n",
    "cookies = {\n",
    "    'l':'dBaBgHluqWhTnkiQBOfwRurza77O5COj5sPzaNbMiICPOD7d4jTNWZKSrmO9CnGVH6zko3zIKqC8BWLHNPl8Z1u2AC1hE_iindC..',\n",
    "    'isg':'BN_f1FuZ_nPvZPpThpWQExdxbjVpRDPmTfooqXEp-w7VAOWCdxXwNn4SwtDbmAte',\n",
    "    'CNZZDATA1255626299':'728144284-1575339666-|1575339666',\n",
    "}"
   ]
  },
  {
   "cell_type": "code",
   "execution_count": 43,
   "metadata": {},
   "outputs": [],
   "source": [
    "df = pd.read_csv('../data/合肥_20191126.csv')\n",
    "names = list(np.unique(df['address'].values))\n",
    "\n",
    "aoi_set = []"
   ]
  },
  {
   "cell_type": "code",
   "execution_count": null,
   "metadata": {
    "scrolled": true
   },
   "outputs": [],
   "source": [
    "# names = ['宝利丰广场']\n",
    "while len(names) > 0:\n",
    "    payload['keywords'] = names.pop(0)\n",
    "    print(payload['keywords'])\n",
    "    \n",
    "    r = requests.get(url, params=payload, headers=headers, cookies=cookies)\n",
    "    content = r.text\n",
    "\n",
    "    o = json.loads(content)\n",
    "    if o['status'] == '1':\n",
    "        if 'poi_list' in o['data'].keys():\n",
    "            for poi in o['data']['poi_list']:\n",
    "                lock = False\n",
    "                for item in aoi_set:\n",
    "                    if item['name'] == poi['name']:\n",
    "                        lock = True\n",
    "                        break\n",
    "\n",
    "                if lock:\n",
    "                    continue\n",
    "\n",
    "                aoi = None\n",
    "                for i in poi['domain_list']:\n",
    "                    if i['id'] == '1013' and 'value' in i.keys():\n",
    "                        aoi = i['value']\n",
    "\n",
    "                if aoi is not None:\n",
    "                    one = {\n",
    "                        'shape': aoi,\n",
    "                        'name': poi['name'],\n",
    "                        'lng':  poi['longitude'],\n",
    "                        'lat': poi['latitude']\n",
    "                    }\n",
    "                    print(one)\n",
    "                    aoi_set.append(one)\n",
    "                \n",
    "    else:\n",
    "        print('reflection')\n",
    "        break\n",
    "    \n",
    "    time.sleep(5)"
   ]
  },
  {
   "cell_type": "code",
   "execution_count": 46,
   "metadata": {},
   "outputs": [],
   "source": [
    "aoi_df = pd.DataFrame(aoi_set)"
   ]
  },
  {
   "cell_type": "code",
   "execution_count": 48,
   "metadata": {},
   "outputs": [],
   "source": [
    "aoi_df.to_csv('../hf_poi.csv', index=False)"
   ]
  },
  {
   "cell_type": "code",
   "execution_count": null,
   "metadata": {},
   "outputs": [],
   "source": []
  }
 ],
 "metadata": {
  "kernelspec": {
   "display_name": "Python 3",
   "language": "python",
   "name": "python3"
  },
  "language_info": {
   "codemirror_mode": {
    "name": "ipython",
    "version": 3
   },
   "file_extension": ".py",
   "mimetype": "text/x-python",
   "name": "python",
   "nbconvert_exporter": "python",
   "pygments_lexer": "ipython3",
   "version": "3.7.4"
  },
  "notify_time": "30"
 },
 "nbformat": 4,
 "nbformat_minor": 2
}
