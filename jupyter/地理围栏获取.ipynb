{
 "cells": [
  {
   "cell_type": "code",
   "execution_count": 80,
   "metadata": {},
   "outputs": [],
   "source": [
    "import requests\n",
    "import json\n",
    "import warnings\n",
    "warnings.filterwarnings(\"ignore\")"
   ]
  },
  {
   "cell_type": "code",
   "execution_count": 97,
   "metadata": {},
   "outputs": [],
   "source": [
    "url = 'https://www.amap.com/service/poiInfo'\n",
    "payload = {\n",
    "    'query_type': 'TQUERY',\n",
    "    'pagesize': 20,\n",
    "    'pagenum': 1,\n",
    "    'qii': True,\n",
    "    'cluster_state': 5,\n",
    "    'need_utd': True,\n",
    "    'utd_sceneid': 1000,\n",
    "    'div': 'PC1000',\n",
    "    'addr_poi_merge': True,\n",
    "    'is_classify': True,\n",
    "    'zoom': 18,\n",
    "    'city': 310000,\n",
    "    'geoobj': '121.382812|31.231732|121.385405|31.234921',\n",
    "    'keywords': '铁联大厦'\n",
    "}\n",
    "\n",
    "headers = {\n",
    "    'Host': 'www.amap.com',\n",
    "    'amapuuid':'bdfc589d-8c81-49da-99dd-06500b389b02',\n",
    "    'Sec-Fetch-Mode': 'cors',\n",
    "    'Sec-Fetch-Site': 'same-origin',\n",
    "    'Referer': 'https://www.amap.com',\n",
    "    'X-Requested-With': 'XMLHttpRequest',\n",
    "    'User-Agent': 'Mozilla/5.0 (Macintosh; Intel Mac OS X 10_14_6) AppleWebKit/537.36 (KHTML, like Gecko) Chrome/78.0.3904.108 Safari/537.36',\n",
    "    'x-csrf-token': None,\n",
    "    'Accept-Encoding': 'gzip, deflate, br',\n",
    "    'Accept-Language': 'zh-CN,zh;q=0.9,en;q=0.8,ja;q=0.7,ko;q=0.6,zh-TW;q=0.5'\n",
    "}\n",
    "\n",
    "cookies = {\n",
    "    'l':'dBQeakknq5BfAAq6BOfZRurza779BIdfhKVzaNbMiICPO7Ww5VG1WZKDJ0xeCnhVn6nX43PdBIAYBW8HiP58Z1u2AC1hE_Oj3dTh.',\n",
    "    'isg':'BNHRG-NHaANAyIQWoRIEI7344NtrPkWw3mZZa7NnPhi3Wves4I9kgFr8_W4Z-93o',\n",
    "    'CNZZDATA1255626299':'977126237-1575123531-https://www.google.com.hk/1575161385',\n",
    "    'x5sec':'7b22617365727665723b32223a2230623232373339656262646437326538663537316164633738653739363339624350324f6a75384645507672752b72697a3657417041453d227d'\n",
    "}"
   ]
  },
  {
   "cell_type": "code",
   "execution_count": 98,
   "metadata": {},
   "outputs": [],
   "source": [
    "r = requests.get(url, params=payload, headers=headers, cookies=cookies)\n",
    "content = r.text"
   ]
  },
  {
   "cell_type": "code",
   "execution_count": 99,
   "metadata": {},
   "outputs": [
    {
     "data": {
      "text/plain": [
       "'\\r\\n{\"rgv587_flag\": \"sm\", \"url\": \"/service/poiInfo/_____tmd_____/punish?x5secdata=5e0c8e1365474455070961b803bd560607b52cabf5960afff39b64ce58073f78f095b6a70f415eb80daf000cedba5ead38d9a2a0ac48b428a68cd31d3048050015ffd60f48a95c19dbd6de3a68e082d35151e037d30b894fa1b9f0617640df860a901a36bd6d324642091753f1253ec47fad7705c7bf26a7ef1aa109e380a620017c48d62690027308f696d51ab40468203151c7931914559187698c2acca9f444dc3279430d060dbf99cd4afbf9d1dfe0496fd369fe90d5a5cb0968745f3629178efae499285026a691b1bbcbe6d41c0894711f8886981925a9d1b1f6c255fb79ccde1b95442a5c93afad4a98a1ac0d1c587e2e5b988f517252a5b3b3b80117b068bbeed591d32450270c8f8405c84cc5762a95fc9f16a859fce3419091f9f5a4fe379c19248ad07ddf9e6d71750d1c8b06cf3207fb4622cadb23ac5d92e12d4440bf0b3e57db00024c36b841c1cc35ed81c65bebf3b9df46dd6afed6f19989ffbf5bb245d120d47da48d5cf3086f78194148703c25bd72bb7202bc60fdaa91a164cfefdfbd2891e5bc839637ee5c0d09e015bc935380dad399c18a4d1e0ac79405e0be7ef498c8ef2987fde8ebc6729868854e2fe2be1613d0437b3d50cbdf9dc4f26e341e0d6f60091c5534d749abd4560aa33ccbde0a28381f8f943d0d11aeb72bab2911f33b59d79c4a9a22dfe83971e35b13934e55d5d7e6957c7bb05a6c20c6024f703f830417ba48b438b746f30a29ddabfcd7faea983d78d09b4f7bddf993f6cb2b89587518e180847108b6e6cde82f1528151f2574bfe37258878b87d5f045fc78039bf9bcab0ed009f040cfe7c19f2248d164b033adc5aec86f09b315ea890c39ad9b6e52b7ef1f20da80f3a3d07f12e056a552f2ebf502eeb9760bba1ce7755af176aeed2809e5b05aef1149ae8e03fac1bb2fd9b03377b2041730920b0d1613a8a8c81cbb04f4da0963b9e55413cf887b983c335ec295a05cb463cef88b6b007fff94374134c71f8a2e&x5step=2\"}'"
      ]
     },
     "execution_count": 99,
     "metadata": {},
     "output_type": "execute_result"
    }
   ],
   "source": [
    "content"
   ]
  },
  {
   "cell_type": "code",
   "execution_count": 91,
   "metadata": {},
   "outputs": [],
   "source": [
    "o = json.loads(content)"
   ]
  },
  {
   "cell_type": "code",
   "execution_count": 92,
   "metadata": {},
   "outputs": [
    {
     "ename": "KeyError",
     "evalue": "'data'",
     "output_type": "error",
     "traceback": [
      "\u001b[0;31m---------------------------------------------------------------------------\u001b[0m",
      "\u001b[0;31mKeyError\u001b[0m                                  Traceback (most recent call last)",
      "\u001b[0;32m<ipython-input-92-a22799aefbc5>\u001b[0m in \u001b[0;36m<module>\u001b[0;34m\u001b[0m\n\u001b[0;32m----> 1\u001b[0;31m \u001b[0;32mfor\u001b[0m \u001b[0mpoi\u001b[0m \u001b[0;32min\u001b[0m \u001b[0mo\u001b[0m\u001b[0;34m[\u001b[0m\u001b[0;34m'data'\u001b[0m\u001b[0;34m]\u001b[0m\u001b[0;34m[\u001b[0m\u001b[0;34m'poi_list'\u001b[0m\u001b[0;34m]\u001b[0m\u001b[0;34m:\u001b[0m\u001b[0;34m\u001b[0m\u001b[0;34m\u001b[0m\u001b[0m\n\u001b[0m\u001b[1;32m      2\u001b[0m     \u001b[0maoi\u001b[0m \u001b[0;34m=\u001b[0m \u001b[0;32mNone\u001b[0m\u001b[0;34m\u001b[0m\u001b[0;34m\u001b[0m\u001b[0m\n\u001b[1;32m      3\u001b[0m     \u001b[0;32mfor\u001b[0m \u001b[0mi\u001b[0m \u001b[0;32min\u001b[0m \u001b[0mpoi\u001b[0m\u001b[0;34m[\u001b[0m\u001b[0;34m'domain_list'\u001b[0m\u001b[0;34m]\u001b[0m\u001b[0;34m:\u001b[0m\u001b[0;34m\u001b[0m\u001b[0;34m\u001b[0m\u001b[0m\n\u001b[1;32m      4\u001b[0m         \u001b[0;32mif\u001b[0m \u001b[0mi\u001b[0m\u001b[0;34m[\u001b[0m\u001b[0;34m'id'\u001b[0m\u001b[0;34m]\u001b[0m \u001b[0;34m==\u001b[0m \u001b[0;34m'1013'\u001b[0m \u001b[0;32mand\u001b[0m \u001b[0;34m'value'\u001b[0m \u001b[0;32min\u001b[0m \u001b[0mi\u001b[0m\u001b[0;34m.\u001b[0m\u001b[0mkeys\u001b[0m\u001b[0;34m(\u001b[0m\u001b[0;34m)\u001b[0m\u001b[0;34m:\u001b[0m\u001b[0;34m\u001b[0m\u001b[0;34m\u001b[0m\u001b[0m\n\u001b[1;32m      5\u001b[0m             \u001b[0maoi\u001b[0m \u001b[0;34m=\u001b[0m \u001b[0mi\u001b[0m\u001b[0;34m[\u001b[0m\u001b[0;34m'value'\u001b[0m\u001b[0;34m]\u001b[0m\u001b[0;34m\u001b[0m\u001b[0;34m\u001b[0m\u001b[0m\n",
      "\u001b[0;31mKeyError\u001b[0m: 'data'"
     ]
    }
   ],
   "source": [
    "for poi in o['data']['poi_list']:\n",
    "    aoi = None\n",
    "    for i in poi['domain_list']:\n",
    "        if i['id'] == '1013' and 'value' in i.keys():\n",
    "            aoi = i['value']\n",
    "    \n",
    "    if aoi is not None:\n",
    "        print(aoi, poi['name'])"
   ]
  },
  {
   "cell_type": "code",
   "execution_count": null,
   "metadata": {},
   "outputs": [],
   "source": []
  }
 ],
 "metadata": {
  "kernelspec": {
   "display_name": "Python 3",
   "language": "python",
   "name": "python3"
  },
  "language_info": {
   "codemirror_mode": {
    "name": "ipython",
    "version": 3
   },
   "file_extension": ".py",
   "mimetype": "text/x-python",
   "name": "python",
   "nbconvert_exporter": "python",
   "pygments_lexer": "ipython3",
   "version": "3.7.1"
  }
 },
 "nbformat": 4,
 "nbformat_minor": 2
}
