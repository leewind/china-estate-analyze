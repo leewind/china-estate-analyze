{
 "cells": [
  {
   "cell_type": "code",
   "execution_count": 30,
   "metadata": {},
   "outputs": [],
   "source": [
    "# -*- coding: utf-8 -*-\n",
    "import pymongo\n",
    "import pymysql\n",
    "from lxml import etree\n",
    "import re\n",
    "import pandas as pd\n",
    "import numpy as np\n",
    "\n",
    "import warnings\n",
    "warnings.filterwarnings(\"ignore\")"
   ]
  },
  {
   "cell_type": "code",
   "execution_count": 31,
   "metadata": {},
   "outputs": [],
   "source": [
    "# -*- coding: utf-8 -*-\n",
    "import pymongo\n",
    "import urllib\n",
    "\n",
    "def get_mongo_db_client():\n",
    "    username_str = 'breadt'\n",
    "    password_str = 'Breadt@2019'\n",
    "\n",
    "    username = urllib.parse.quote_plus(username_str)\n",
    "    password = urllib.parse.quote_plus(password_str)\n",
    "\n",
    "    client = pymongo.MongoClient('mongodb://%s:%s@192.168.31.87:27017/' % (username, password))\n",
    "    return client"
   ]
  },
  {
   "cell_type": "code",
   "execution_count": 32,
   "metadata": {},
   "outputs": [],
   "source": [
    "def get_data_from_db(date, city):\n",
    "    client = get_mongo_db_client()\n",
    "    db = client['ke']\n",
    "\n",
    "    data = []\n",
    "    \n",
    "    cursor = db['kelist'].find({'date': date, 'city': city})\n",
    "    for r in cursor:\n",
    "\n",
    "        content = re.sub(r'<script[^>]*?>(?:.|\\n)*?<\\/script>', '', r['content'])\n",
    "        content = re.sub(r'<meta.+>', '', content)\n",
    "        content = re.sub(r'<link.+>', '', content)\n",
    "        content = re.sub(r'<!--.+-->', '', content)\n",
    "        content = re.sub(r'\\n', '', content)\n",
    "        content = re.sub(r'<br/>', '', content)\n",
    "        content = re.sub(r'<span class=\"houseIcon\"></span>', '', content)\n",
    "\n",
    "        pattern = re.compile(r'<li class=\"clear\">.*?</li>')   # 查找数字\n",
    "        result = pattern.findall(content)\n",
    "\n",
    "        for item in result:\n",
    "            html = etree.HTML(item)\n",
    "            \n",
    "            house_info = html.xpath('//div[@class=\"houseInfo\"]/text()')[0].replace(' ', '')\n",
    "            house_info_arr = house_info.split('|')\n",
    "            \n",
    "            if len(house_info_arr) == 5:\n",
    "                year = house_info_arr[1].replace('年建', '')\n",
    "            elif len(house_info_arr) == 4:\n",
    "                year = house_info_arr[1].replace('年建', '')\n",
    "            else:\n",
    "                year = 0\n",
    "            \n",
    "            if len(house_info_arr) == 5:\n",
    "                size = house_info_arr[3].replace('平米', '')\n",
    "            elif len(house_info_arr) == 3:\n",
    "                size = house_info_arr[1].replace('平米', '')\n",
    "            else:\n",
    "                size = house_info_arr[-1].replace('平米', '')\n",
    "                \n",
    "            if len(house_info_arr) == 5:\n",
    "                structure = house_info_arr[2]\n",
    "            elif len(house_info_arr) == 4:\n",
    "                structure = house_info_arr[2]\n",
    "            else:\n",
    "                structure = house_info_arr[0].split(')')[1]\n",
    "                \n",
    "            if len(house_info_arr) == 5:\n",
    "                op = house_info_arr[4]\n",
    "            elif len(house_info_arr) == 3:\n",
    "                op = house_info_arr[2]\n",
    "            else:\n",
    "                op = 0\n",
    "            \n",
    "            if len(house_info_arr) == 5:\n",
    "                level = house_info_arr[0]\n",
    "            elif len(house_info_arr) == 3:\n",
    "                level = house_info_arr[0].split(')')[0]\n",
    "            else:\n",
    "                level = house_info_arr[0]\n",
    "                \n",
    "            tax_info = html.xpath('//span[@class=\"taxfree\"]/text()')\n",
    "            \n",
    "            data.append({\n",
    "                'href': html.xpath('//a[contains(@class,\"maidian-detail\")]/@href')[0],\n",
    "                'title':html.xpath('//a[contains(@class,\"maidian-detail\")]/@title')[0],\n",
    "                'info': house_info,\n",
    "                'level': level,\n",
    "                'year': year,\n",
    "                'structure': structure,\n",
    "                'size': size,\n",
    "                'op': op,\n",
    "                'price': html.xpath('//div[@class=\"totalPrice\"]/span/text()')[0],\n",
    "                'tax': tax_info[0] if len(tax_info) > 0 else 0,\n",
    "                'date': r['date'],\n",
    "                'address': html.xpath('//div[@class=\"positionInfo\"]//a/text()')[0],\n",
    "            })\n",
    "    return data"
   ]
  },
  {
   "cell_type": "code",
   "execution_count": null,
   "metadata": {},
   "outputs": [],
   "source": [
    "data = get_data_from_db('2019-11-26', '上海')\n",
    "df = pd.DataFrame(data)"
   ]
  },
  {
   "cell_type": "code",
   "execution_count": null,
   "metadata": {},
   "outputs": [],
   "source": [
    "df.columns.values"
   ]
  },
  {
   "cell_type": "code",
   "execution_count": null,
   "metadata": {},
   "outputs": [],
   "source": [
    "t = df[['address', 'level', 'op', 'price', 'size','structure', 'tax', 'title', 'year']]\n",
    "t['price'] = t['price'].astype(np.float32)\n",
    "t['size'] = t['size'].astype(np.float32)\n",
    "t['avg_price'] = t['price'] / t['size']\n",
    "t.head()"
   ]
  },
  {
   "cell_type": "code",
   "execution_count": null,
   "metadata": {},
   "outputs": [],
   "source": []
  }
 ],
 "metadata": {
  "kernelspec": {
   "display_name": "Python 3",
   "language": "python",
   "name": "python3"
  },
  "language_info": {
   "codemirror_mode": {
    "name": "ipython",
    "version": 3
   },
   "file_extension": ".py",
   "mimetype": "text/x-python",
   "name": "python",
   "nbconvert_exporter": "python",
   "pygments_lexer": "ipython3",
   "version": "3.7.1"
  }
 },
 "nbformat": 4,
 "nbformat_minor": 2
}
