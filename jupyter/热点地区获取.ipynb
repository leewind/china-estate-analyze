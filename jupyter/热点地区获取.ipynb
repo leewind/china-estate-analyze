{
 "cells": [
  {
   "cell_type": "code",
   "execution_count": 7,
   "metadata": {},
   "outputs": [],
   "source": [
    "import requests\n",
    "from lxml import etree\n",
    "from tqdm import tqdm\n",
    "import json"
   ]
  },
  {
   "cell_type": "code",
   "execution_count": 2,
   "metadata": {},
   "outputs": [
    {
     "name": "stderr",
     "output_type": "stream",
     "text": [
      "100%|██████████| 592/592 [00:00<00:00, 12124.16it/s]\n"
     ]
    }
   ],
   "source": [
    "r = requests.get('https://www.ke.com/city/')\n",
    "html = etree.HTML(r.text)\n",
    "\n",
    "city_list = []\n",
    "cities = html.xpath('//ul[@class=\"city_list_ul\"]//a')\n",
    "for city in tqdm(cities):\n",
    "    city_list.append({\n",
    "        'city_name': city.xpath('text()')[0],\n",
    "        'city_url': 'https:' + city.xpath('@href')[0] + '/ershoufang/',\n",
    "        'city_host': 'https:' + city.xpath('@href')[0]\n",
    "    })"
   ]
  },
  {
   "cell_type": "code",
   "execution_count": 3,
   "metadata": {},
   "outputs": [
    {
     "name": "stderr",
     "output_type": "stream",
     "text": [
      "592it [10:15,  1.09it/s]\n"
     ]
    }
   ],
   "source": [
    "for idx, i in tqdm(enumerate(city_list)):\n",
    "    r = requests.get(i['city_url'])\n",
    "\n",
    "    html = etree.HTML(r.text)\n",
    "    districts = html.xpath('//div[@data-role=\"ershoufang\"]//a')\n",
    "    \n",
    "    city_districts = []\n",
    "    for district in districts:\n",
    "        city_districts.append({\n",
    "            'district_name': district.xpath('text()')[0],\n",
    "            'district_url': district.xpath('@href')[0]\n",
    "        })\n",
    "    \n",
    "    city_list[idx]['districts'] = city_districts\n"
   ]
  },
  {
   "cell_type": "code",
   "execution_count": 4,
   "metadata": {},
   "outputs": [
    {
     "name": "stderr",
     "output_type": "stream",
     "text": [
      "592it [13:21,  1.35s/it]\n"
     ]
    }
   ],
   "source": [
    "for idx, i in tqdm(enumerate(city_list)):\n",
    "    \n",
    "    for d_idx, j in enumerate(i['districts']):\n",
    "        r = requests.get(i['city_host'] + j['district_url'])\n",
    "        \n",
    "        \n",
    "        html = etree.HTML(r.text)\n",
    "        hotpots = html.xpath('(//div[@data-role=\"ershoufang\"]/div)[2]/a')\n",
    "        \n",
    "        hotpot_container = []\n",
    "        for hotpot in hotpots:\n",
    "            item = {\n",
    "                'hotpot': hotpot.xpath('text()')[0],\n",
    "                'url': hotpot.xpath('@href')[0]\n",
    "            }\n",
    "            \n",
    "            hotpot_container.append(item)\n",
    "        \n",
    "        city_list[idx]['districts'][d_idx]['hotpot'] = hotpot_container"
   ]
  },
  {
   "cell_type": "code",
   "execution_count": 10,
   "metadata": {},
   "outputs": [],
   "source": [
    "with open('../spider/spider/city_list.json','w') as f: # 如果filename不存在会自动创建， 'w'表示写数据，写之前会清空文件中的原有数据！\n",
    "    f.write(json.dumps({'cities': city_list}))"
   ]
  },
  {
   "cell_type": "code",
   "execution_count": null,
   "metadata": {},
   "outputs": [],
   "source": []
  }
 ],
 "metadata": {
  "kernelspec": {
   "display_name": "Python 3",
   "language": "python",
   "name": "python3"
  },
  "language_info": {
   "codemirror_mode": {
    "name": "ipython",
    "version": 3
   },
   "file_extension": ".py",
   "mimetype": "text/x-python",
   "name": "python",
   "nbconvert_exporter": "python",
   "pygments_lexer": "ipython3",
   "version": "3.7.1"
  }
 },
 "nbformat": 4,
 "nbformat_minor": 2
}
